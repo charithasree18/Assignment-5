{
 "cells": [
  {
   "cell_type": "code",
   "execution_count": 1,
   "id": "12cbf420-0988-45ff-badd-eadba43fba14",
   "metadata": {},
   "outputs": [
    {
     "name": "stdin",
     "output_type": "stream",
     "text": [
      "Enter the student's name:  cherry\n"
     ]
    },
    {
     "name": "stdout",
     "output_type": "stream",
     "text": [
      "Student not found.\n"
     ]
    }
   ],
   "source": [
    "# Task: Create a Dictionary of Student Marks\n",
    "\n",
    "# Step 1: Create dictionary with student names and marks\n",
    "student_marks = {\n",
    "    \"Alice\": 85,\n",
    "    \"Bob\": 78,\n",
    "    \"Charlie\": 92,\n",
    "    \"David\": 69,\n",
    "    \"Eve\": 74\n",
    "}\n",
    "\n",
    "# Step 2: Ask the user for a student name\n",
    "name = input(\"Enter the student's name: \")\n",
    "\n",
    "# Step 3: Retrieve and display marks or show not found message\n",
    "if name in student_marks:\n",
    "    print(f\"{name}'s marks: {student_marks[name]}\")\n",
    "else:\n",
    "    print(\"Student not found.\")\n"
   ]
  },
  {
   "cell_type": "code",
   "execution_count": 5,
   "id": "96d4d29a-a377-4cb0-956c-28c81a72c2a0",
   "metadata": {},
   "outputs": [
    {
     "name": "stdin",
     "output_type": "stream",
     "text": [
      "Enter the student's name:  Eve\n"
     ]
    },
    {
     "name": "stdout",
     "output_type": "stream",
     "text": [
      "Eve's marks: 74\n"
     ]
    }
   ],
   "source": [
    "# Task: Create a Dictionary of Student Marks\n",
    "\n",
    "# Step 1: Create dictionary with student names and marks\n",
    "student_marks = {\n",
    "    \"Alice\": 85,\n",
    "    \"Bob\": 78,\n",
    "    \"Charlie\": 92,\n",
    "    \"David\": 69,\n",
    "    \"Eve\": 74\n",
    "}\n",
    "\n",
    "# Step 2: Ask the user for a student name\n",
    "name = input(\"Enter the student's name: \")\n",
    "\n",
    "# Step 3: Retrieve and display marks or show not found message\n",
    "if name in student_marks:\n",
    "    print(f\"{name}'s marks: {student_marks[name]}\")\n",
    "else:\n",
    "    print(\"Student not found.\")\n"
   ]
  },
  {
   "cell_type": "code",
   "execution_count": null,
   "id": "defc73a6-3e15-45e8-bd7f-d546f50bfdc4",
   "metadata": {},
   "outputs": [],
   "source": []
  }
 ],
 "metadata": {
  "kernelspec": {
   "display_name": "Python [conda env:base] *",
   "language": "python",
   "name": "conda-base-py"
  },
  "language_info": {
   "codemirror_mode": {
    "name": "ipython",
    "version": 3
   },
   "file_extension": ".py",
   "mimetype": "text/x-python",
   "name": "python",
   "nbconvert_exporter": "python",
   "pygments_lexer": "ipython3",
   "version": "3.12.7"
  }
 },
 "nbformat": 4,
 "nbformat_minor": 5
}
